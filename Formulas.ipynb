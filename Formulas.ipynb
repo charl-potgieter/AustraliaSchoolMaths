{
 "cells": [
  {
   "cell_type": "code",
   "execution_count": 22,
   "id": "9e701278-139f-4fbf-819c-db832ae3eaa1",
   "metadata": {
    "tags": []
   },
   "outputs": [
    {
     "data": {
      "text/html": [
       "<style type=\"text/css\">\n",
       "#T_83c6f th.col_heading {\n",
       "  text-align: left;\n",
       "}\n",
       "#T_83c6f td {\n",
       "  text-align: left;\n",
       "}\n",
       "#T_83c6f_row0_col3, #T_83c6f_row1_col3, #T_83c6f_row2_col3, #T_83c6f_row3_col3, #T_83c6f_row4_col3, #T_83c6f_row5_col3, #T_83c6f_row6_col3, #T_83c6f_row7_col3 {\n",
       "  width: 200px;\n",
       "}\n",
       "</style>\n",
       "<table id=\"T_83c6f\">\n",
       "  <thead>\n",
       "    <tr>\n",
       "      <th class=\"blank level0\" >&nbsp;</th>\n",
       "      <th id=\"T_83c6f_level0_col0\" class=\"col_heading level0 col0\" >Category</th>\n",
       "      <th id=\"T_83c6f_level0_col1\" class=\"col_heading level0 col1\" > Sub-category</th>\n",
       "      <th id=\"T_83c6f_level0_col2\" class=\"col_heading level0 col2\" >Description</th>\n",
       "      <th id=\"T_83c6f_level0_col3\" class=\"col_heading level0 col3\" >formula</th>\n",
       "      <th id=\"T_83c6f_level0_col4\" class=\"col_heading level0 col4\" > On formula sheet</th>\n",
       "      <th id=\"T_83c6f_level0_col5\" class=\"col_heading level0 col5\" > Comment</th>\n",
       "    </tr>\n",
       "  </thead>\n",
       "  <tbody>\n",
       "    <tr>\n",
       "      <th id=\"T_83c6f_level0_row0\" class=\"row_heading level0 row0\" >0</th>\n",
       "      <td id=\"T_83c6f_row0_col0\" class=\"data row0 col0\" >Indices</td>\n",
       "      <td id=\"T_83c6f_row0_col1\" class=\"data row0 col1\" >Index Rules</td>\n",
       "      <td id=\"T_83c6f_row0_col2\" class=\"data row0 col2\" >Multiplying terms with same base</td>\n",
       "      <td id=\"T_83c6f_row0_col3\" class=\"data row0 col3\" > $a^m \\times a^n = a^{m+n}$</td>\n",
       "      <td id=\"T_83c6f_row0_col4\" class=\"data row0 col4\" > False</td>\n",
       "      <td id=\"T_83c6f_row0_col5\" class=\"data row0 col5\" >nan</td>\n",
       "    </tr>\n",
       "    <tr>\n",
       "      <th id=\"T_83c6f_level0_row1\" class=\"row_heading level0 row1\" >1</th>\n",
       "      <td id=\"T_83c6f_row1_col0\" class=\"data row1 col0\" >Indices</td>\n",
       "      <td id=\"T_83c6f_row1_col1\" class=\"data row1 col1\" >Index Rules</td>\n",
       "      <td id=\"T_83c6f_row1_col2\" class=\"data row1 col2\" >Dividing terms with same base</td>\n",
       "      <td id=\"T_83c6f_row1_col3\" class=\"data row1 col3\" > $a^m \\div a^n = \\dfrac{a^m}{a^n} = a^{m-n}$</td>\n",
       "      <td id=\"T_83c6f_row1_col4\" class=\"data row1 col4\" > False</td>\n",
       "      <td id=\"T_83c6f_row1_col5\" class=\"data row1 col5\" >nan</td>\n",
       "    </tr>\n",
       "    <tr>\n",
       "      <th id=\"T_83c6f_level0_row2\" class=\"row_heading level0 row2\" >2</th>\n",
       "      <td id=\"T_83c6f_row2_col0\" class=\"data row2 col0\" >Indices</td>\n",
       "      <td id=\"T_83c6f_row2_col1\" class=\"data row2 col1\" >Index Rules</td>\n",
       "      <td id=\"T_83c6f_row2_col2\" class=\"data row2 col2\" >Power of a power</td>\n",
       "      <td id=\"T_83c6f_row2_col3\" class=\"data row2 col3\" > $(a^m)^n = a^{m \\times n}$</td>\n",
       "      <td id=\"T_83c6f_row2_col4\" class=\"data row2 col4\" > False</td>\n",
       "      <td id=\"T_83c6f_row2_col5\" class=\"data row2 col5\" >nan</td>\n",
       "    </tr>\n",
       "    <tr>\n",
       "      <th id=\"T_83c6f_level0_row3\" class=\"row_heading level0 row3\" >3</th>\n",
       "      <td id=\"T_83c6f_row3_col0\" class=\"data row3 col0\" >Indices</td>\n",
       "      <td id=\"T_83c6f_row3_col1\" class=\"data row3 col1\" >Index Rules</td>\n",
       "      <td id=\"T_83c6f_row3_col2\" class=\"data row3 col2\" >Powers of products</td>\n",
       "      <td id=\"T_83c6f_row3_col3\" class=\"data row3 col3\" > $(ab)^n = a^nb^n$</td>\n",
       "      <td id=\"T_83c6f_row3_col4\" class=\"data row3 col4\" > False</td>\n",
       "      <td id=\"T_83c6f_row3_col5\" class=\"data row3 col5\" >nan</td>\n",
       "    </tr>\n",
       "    <tr>\n",
       "      <th id=\"T_83c6f_level0_row4\" class=\"row_heading level0 row4\" >4</th>\n",
       "      <td id=\"T_83c6f_row4_col0\" class=\"data row4 col0\" >Indices</td>\n",
       "      <td id=\"T_83c6f_row4_col1\" class=\"data row4 col1\" >Index Rules</td>\n",
       "      <td id=\"T_83c6f_row4_col2\" class=\"data row4 col2\" >Powers of quotients</td>\n",
       "      <td id=\"T_83c6f_row4_col3\" class=\"data row4 col3\" > $\\left(\\dfrac{a}{b}\\right)^n = \\dfrac{a^n}{b^n}$</td>\n",
       "      <td id=\"T_83c6f_row4_col4\" class=\"data row4 col4\" > False</td>\n",
       "      <td id=\"T_83c6f_row4_col5\" class=\"data row4 col5\" >nan</td>\n",
       "    </tr>\n",
       "    <tr>\n",
       "      <th id=\"T_83c6f_level0_row5\" class=\"row_heading level0 row5\" >5</th>\n",
       "      <td id=\"T_83c6f_row5_col0\" class=\"data row5 col0\" >Indices</td>\n",
       "      <td id=\"T_83c6f_row5_col1\" class=\"data row5 col1\" >Index Rules</td>\n",
       "      <td id=\"T_83c6f_row5_col2\" class=\"data row5 col2\" >Power of zero</td>\n",
       "      <td id=\"T_83c6f_row5_col3\" class=\"data row5 col3\" > $a^0=1$</td>\n",
       "      <td id=\"T_83c6f_row5_col4\" class=\"data row5 col4\" > False</td>\n",
       "      <td id=\"T_83c6f_row5_col5\" class=\"data row5 col5\" >nan</td>\n",
       "    </tr>\n",
       "    <tr>\n",
       "      <th id=\"T_83c6f_level0_row6\" class=\"row_heading level0 row6\" >6</th>\n",
       "      <td id=\"T_83c6f_row6_col0\" class=\"data row6 col0\" >Indices</td>\n",
       "      <td id=\"T_83c6f_row6_col1\" class=\"data row6 col1\" >Index Rules</td>\n",
       "      <td id=\"T_83c6f_row6_col2\" class=\"data row6 col2\" >Negative powers</td>\n",
       "      <td id=\"T_83c6f_row6_col3\" class=\"data row6 col3\" > $a^{-n}=\\dfrac{1}{a^n}$</td>\n",
       "      <td id=\"T_83c6f_row6_col4\" class=\"data row6 col4\" > False</td>\n",
       "      <td id=\"T_83c6f_row6_col5\" class=\"data row6 col5\" >nan</td>\n",
       "    </tr>\n",
       "    <tr>\n",
       "      <th id=\"T_83c6f_level0_row7\" class=\"row_heading level0 row7\" >7</th>\n",
       "      <td id=\"T_83c6f_row7_col0\" class=\"data row7 col0\" >Indices</td>\n",
       "      <td id=\"T_83c6f_row7_col1\" class=\"data row7 col1\" >Index Rules</td>\n",
       "      <td id=\"T_83c6f_row7_col2\" class=\"data row7 col2\" >Negative powers of quotients</td>\n",
       "      <td id=\"T_83c6f_row7_col3\" class=\"data row7 col3\" > $\\left(\\dfrac{a}{b}\\right)^{-n} = \\left(\\dfrac{b}{a}\\right)^n$</td>\n",
       "      <td id=\"T_83c6f_row7_col4\" class=\"data row7 col4\" > False</td>\n",
       "      <td id=\"T_83c6f_row7_col5\" class=\"data row7 col5\" >nan</td>\n",
       "    </tr>\n",
       "  </tbody>\n",
       "</table>\n"
      ],
      "text/plain": [
       "<pandas.io.formats.style.Styler at 0x7f5f4714b8d0>"
      ]
     },
     "metadata": {},
     "output_type": "display_data"
    }
   ],
   "source": [
    "import pandas as pd\n",
    "\n",
    "\n",
    "\n",
    "def styled_formula_table(df):\n",
    "    \"\"\"Return styled display table for formulas\"\"\"\n",
    "    \n",
    "    mytable = df.style.set_properties(subset=['formula'], **{'width': '200px'}).set_table_styles ([\n",
    "        {'selector': 'th.col_heading', 'props': 'text-align: left'},\n",
    "        {'selector': 'td', 'props': 'text-align: left'}])\n",
    "\n",
    "    return (mytable)\n",
    "    \n",
    "\n",
    "\n",
    "\n",
    "if __name__ == '__main__':\n",
    "    \n",
    "    # Latex string in csv needs to be enclosed a single $ to enable left align\n",
    "    df=  pd.read_csv(filepath_or_buffer='formulas.csv')\n",
    "    display(styled_formula_table(df))\n",
    "    \n"
   ]
  },
  {
   "cell_type": "code",
   "execution_count": 19,
   "id": "7c8df899-1890-4956-a25f-f6aaa9f4aea8",
   "metadata": {
    "tags": []
   },
   "outputs": [
    {
     "data": {
      "text/latex": [
       "$\\left(\\dfrac{a}{b}\\right)^{-n} = \\left(\\dfrac{b}{a}\\right)^n$"
      ],
      "text/plain": [
       "<IPython.core.display.Latex object>"
      ]
     },
     "metadata": {},
     "output_type": "display_data"
    }
   ],
   "source": [
    "from IPython.display import Latex\n",
    "test = r'$\\left(\\dfrac{a}{b}\\right)^{-n} = \\left(\\dfrac{b}{a}\\right)^n$'\n",
    "display (Latex(test))"
   ]
  },
  {
   "cell_type": "code",
   "execution_count": null,
   "id": "a5baa492-549e-49cf-9ddd-c33abfdafd5c",
   "metadata": {},
   "outputs": [],
   "source": []
  }
 ],
 "metadata": {
  "kernelspec": {
   "display_name": "Python 3 (ipykernel)",
   "language": "python",
   "name": "python3"
  },
  "language_info": {
   "codemirror_mode": {
    "name": "ipython",
    "version": 3
   },
   "file_extension": ".py",
   "mimetype": "text/x-python",
   "name": "python",
   "nbconvert_exporter": "python",
   "pygments_lexer": "ipython3",
   "version": "3.11.3"
  }
 },
 "nbformat": 4,
 "nbformat_minor": 5
}
